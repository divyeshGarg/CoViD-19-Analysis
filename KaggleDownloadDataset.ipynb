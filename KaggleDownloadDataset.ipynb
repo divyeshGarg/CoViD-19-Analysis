{
 "cells": [
  {
   "cell_type": "markdown",
   "metadata": {},
   "source": [
    "### Automated download of the latest dataset from kaggle and backing up the older dataset"
   ]
  },
  {
   "cell_type": "markdown",
   "metadata": {},
   "source": [
    "Before running this notebook make sure to download a new API token from the kaggle website using the steps below:\n",
    "    1. Login to https://www.kaggle.com/\n",
    "    2. Click on the small user icon at the top right of the page\n",
    "    3. Go to My Account\n",
    "    4. Find the 'API' section and click on 'Create New API Token'\n",
    "    5. kaggle.json file will be downloaded\n",
    "    6. Move the downloaded file to C:\\Users\\<username>\\.kaggle\\ folder in Windows or /home/.kaggle/ in unix based system"
   ]
  },
  {
   "cell_type": "markdown",
   "metadata": {},
   "source": [
    "### Prerequisites\n",
    "1. Make sure the `kaggle` API is already installed on your machine. If not, then uncomment the cell [1] and run.\n",
    "2. Make sure the `data` directory exists in the project folder. If not, then run uncomment the cell [3] and run."
   ]
  },
  {
   "cell_type": "code",
   "execution_count": 1,
   "metadata": {},
   "outputs": [],
   "source": [
    "# !pip install kaggle"
   ]
  },
  {
   "cell_type": "code",
   "execution_count": 2,
   "metadata": {},
   "outputs": [],
   "source": [
    "import kaggle\n",
    "from zipfile import ZipFile"
   ]
  },
  {
   "cell_type": "code",
   "execution_count": 3,
   "metadata": {},
   "outputs": [],
   "source": [
    "#!mkdir data"
   ]
  },
  {
   "cell_type": "code",
   "execution_count": 4,
   "metadata": {},
   "outputs": [],
   "source": [
    "# Delete the previous dataset backup (we'll limit backup dataset to one instance only)\n",
    "!rm -rf backupData"
   ]
  },
  {
   "cell_type": "code",
   "execution_count": 5,
   "metadata": {},
   "outputs": [],
   "source": [
    "# Create a new directory for the backup dataset\n",
    "!mkdir backupData"
   ]
  },
  {
   "cell_type": "code",
   "execution_count": 6,
   "metadata": {},
   "outputs": [
    {
     "name": "stdout",
     "output_type": "stream",
     "text": [
      "CovidAnalysis.ipynb\n",
      "KaggleDownloadDataset.ipynb\n",
      "backupData\n",
      "data\n"
     ]
    }
   ],
   "source": [
    "!ls"
   ]
  },
  {
   "cell_type": "code",
   "execution_count": 7,
   "metadata": {},
   "outputs": [],
   "source": [
    "# Move the contents of the current dataset to the backup directory and clear the data directory to accomodate latest data\n",
    "!cd data & mv * ../backupData"
   ]
  },
  {
   "cell_type": "code",
   "execution_count": 8,
   "metadata": {},
   "outputs": [],
   "source": [
    "# List the datasets on kaggle using keyword\n",
    "# !kaggle datasets list -s \"sudalairajkumar/novel-corona-virus-2019-dataset\""
   ]
  },
  {
   "cell_type": "code",
   "execution_count": 9,
   "metadata": {},
   "outputs": [
    {
     "name": "stdout",
     "output_type": "stream",
     "text": [
      "Downloading novel-corona-virus-2019-dataset.zip to C:\\Users\\DivyeshGarg\\Documents\\Covid Analysis\\data\n",
      "\n"
     ]
    },
    {
     "name": "stderr",
     "output_type": "stream",
     "text": [
      "\n",
      "  0%|          | 0.00/1.11M [00:00<?, ?B/s]\n",
      "100%|##########| 1.11M/1.11M [00:00<00:00, 14.2MB/s]\n"
     ]
    }
   ],
   "source": [
    "!cd data & kaggle datasets download -d \"sudalairajkumar/novel-corona-virus-2019-dataset\""
   ]
  },
  {
   "cell_type": "code",
   "execution_count": 10,
   "metadata": {},
   "outputs": [],
   "source": [
    "with ZipFile('data/novel-corona-virus-2019-dataset.zip', 'r') as zipObj:\n",
    "   zipObj.extractall('data')"
   ]
  },
  {
   "cell_type": "code",
   "execution_count": 11,
   "metadata": {},
   "outputs": [],
   "source": [
    "!cd data & rm novel-corona-virus-2019-dataset.zip"
   ]
  }
 ],
 "metadata": {
  "kernelspec": {
   "display_name": "Python 3",
   "language": "python",
   "name": "python3"
  },
  "language_info": {
   "codemirror_mode": {
    "name": "ipython",
    "version": 3
   },
   "file_extension": ".py",
   "mimetype": "text/x-python",
   "name": "python",
   "nbconvert_exporter": "python",
   "pygments_lexer": "ipython3",
   "version": "3.7.1"
  }
 },
 "nbformat": 4,
 "nbformat_minor": 2
}
